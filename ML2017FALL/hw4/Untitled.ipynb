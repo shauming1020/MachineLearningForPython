{
 "cells": [
  {
   "cell_type": "code",
   "execution_count": 15,
   "metadata": {},
   "outputs": [
    {
     "name": "stderr",
     "output_type": "stream",
     "text": [
      "C:\\Users\\Zheng Shau Ming\\Anaconda3\\lib\\site-packages\\gensim\\utils.py:1197: UserWarning: detected Windows; aliasing chunkize to chunkize_serial\n",
      "  warnings.warn(\"detected Windows; aliasing chunkize to chunkize_serial\")\n"
     ]
    }
   ],
   "source": [
    "import numpy as np\n",
    "from keras.preprocessing.text import Tokenizer\n",
    "from keras.preprocessing.sequence import pad_sequences\n",
    "from keras.utils import to_categorical\n",
    "from sklearn.model_selection import train_test_split\n",
    "from keras.layers import Embedding, Input,InputLayer,BatchNormalization, Dense, Bidirectional,LSTM,Dropout,GRU,Activation\n",
    "from keras.models import Model,load_model\n",
    "from keras.callbacks import History ,ModelCheckpoint, EarlyStopping\n",
    "import pandas as pd\n",
    "import gensim\n",
    "import random\n",
    "import re\n",
    "from collections import Counter\n",
    "from keras.utils.generic_utils import get_custom_objects\n",
    "from keras import regularizers\n",
    "from keras import backend as K\n",
    "import pickle\n",
    "import sys\n",
    "\n"
   ]
  },
  {
   "cell_type": "code",
   "execution_count": 16,
   "metadata": {},
   "outputs": [],
   "source": [
    "# Parameters\n",
    "RAWDATA_LABEL_PATH = 'C:/Users/Zheng Shau Ming/Documents/GitHub/ML2017FALL_dataset/hw4_RNN/training_label.txt'\n"
   ]
  },
  {
   "cell_type": "code",
   "execution_count": 17,
   "metadata": {},
   "outputs": [],
   "source": [
    "\n",
    "with open(RAWDATA_LABEL_PATH, encoding = 'utf8') as f:\n",
    "    train = f.readlines()\n",
    "train_X = [seg.strip().split(\" +++$+++ \")[1] for seg in train]\n",
    "train_y = [seg.strip().split(\" +++$+++ \")[0] for seg in train]\n",
    "\n"
   ]
  },
  {
   "cell_type": "code",
   "execution_count": 18,
   "metadata": {},
   "outputs": [
    {
     "name": "stdout",
     "output_type": "stream",
     "text": [
      "preprocess:  been there , still there . but he cant complain when he runs out of clean clothes i taught mine how to do his at 1\n",
      "after stemming:  been there , still there . but he cant complain when he run out of clean cloth i taught mine how to do hi at 1\n"
     ]
    }
   ],
   "source": [
    "stemmer = gensim.parsing.porter.PorterStemmer()\n",
    "def preprocess(string, use_stem = True):\n",
    "    string = string.replace(\"i ' m\", \"im\").replace(\"you ' re\",\"youre\").replace(\"didn ' t\",\"didnt\")    .replace(\"can ' t\",\"cant\").replace(\"haven ' t\", \"havent\").replace(\"won ' t\", \"wont\")    .replace(\"isn ' t\",\"isnt\").replace(\"don ' t\", \"dont\").replace(\"doesn ' t\", \"doesnt\")    .replace(\"aren ' t\", \"arent\").replace(\"weren ' t\", \"werent\").replace(\"wouldn ' t\",\"wouldnt\")    .replace(\"ain ' t\",\"aint\").replace(\"shouldn ' t\",\"shouldnt\").replace(\"wasn ' t\",\"wasnt\")    .replace(\" ' s\",\"s\").replace(\"wudn ' t\",\"wouldnt\").replace(\" .. \",\" ... \")    .replace(\"couldn ' t\",\"couldnt\")\n",
    "    for same_char in re.findall(r'((\\w)\\2{2,})', string):\n",
    "        string = string.replace(same_char[0], same_char[1])\n",
    "    for digit in re.findall(r'\\d+', string):\n",
    "        string = string.replace(digit, \"1\")\n",
    "    for punct in re.findall(r'([-/\\\\\\\\()!\"+,&?\\'.]{2,})',string):\n",
    "        if punct[0:2] ==\"..\":\n",
    "            string = string.replace(punct, \"...\")\n",
    "        else:\n",
    "            string = string.replace(punct, punct[0])\n",
    "    return string\n",
    "\n",
    "s = \"been there ,,, still there .,... but he can ' t complain when he runs out of clean clothes i taught mine how to do his at 10\"\n",
    "print(\"preprocess: \",preprocess(s))\n",
    "print(\"after stemming: \",stemmer.stem_sentence(preprocess(s)))"
   ]
  },
  {
   "cell_type": "code",
   "execution_count": null,
   "metadata": {},
   "outputs": [],
   "source": []
  }
 ],
 "metadata": {
  "kernelspec": {
   "display_name": "Python 3",
   "language": "python",
   "name": "python3"
  },
  "language_info": {
   "codemirror_mode": {
    "name": "ipython",
    "version": 3
   },
   "file_extension": ".py",
   "mimetype": "text/x-python",
   "name": "python",
   "nbconvert_exporter": "python",
   "pygments_lexer": "ipython3",
   "version": "3.7.3"
  }
 },
 "nbformat": 4,
 "nbformat_minor": 2
}
